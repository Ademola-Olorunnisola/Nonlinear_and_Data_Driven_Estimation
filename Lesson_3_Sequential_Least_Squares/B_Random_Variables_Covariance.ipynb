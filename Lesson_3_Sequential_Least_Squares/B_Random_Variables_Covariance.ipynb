{
 "cells": [
  {
   "cell_type": "code",
   "execution_count": 1,
   "metadata": {},
   "outputs": [],
   "source": [
    "import numpy as np\n",
    "import scipy.stats\n",
    "import matplotlib.pyplot as plt"
   ]
  },
  {
   "cell_type": "markdown",
   "metadata": {},
   "source": [
    "# Random Variables\n",
    "\n",
    "Let $v$ be a random variable.\n",
    "\n",
    "Expected value $E[v]$ is the mean: \n",
    "* $E[v] = \\bar{v} = \\frac{1}{N}\\sum_{1}^{N}v_i$\n",
    "\n",
    "Expected value of a vector:\n",
    "* $E[\\mathbf{v}] = \\mathbf{\\bar{v}} = [\\bar{x}_1,...,\\bar{x}_n]^\\top$\n",
    "\n",
    "Variance is $E[(v-E[v])^2]$:\n",
    "* $\\sigma^2=E[(v-\\bar{v})^2]=\\frac{1}{N}\\sum_{1}^{N}(v_i-\\bar{v})^2$\n",
    "\n",
    "Standard deviation is the square root of variance:\n",
    "* $\\sigma$\n",
    "\n",
    "Covariance matrix is $E\\big[ (\\mathbf{x}-E[\\mathbf{x}])(\\mathbf{x}-E[\\mathbf{x}])^{\\top} \\big]$, size $N \\times N$:\n",
    "* $R_{ij}=\\frac{1}{N}\\sum_{k=1}^{N}(x_{ik}-\\bar{x}_i)(x_{jk}-\\bar{x}_j)$\n",
    "* $R = \\mathbf{v} \\mathbf{v}^{\\top}$"
   ]
  },
  {
   "cell_type": "code",
   "execution_count": 2,
   "metadata": {},
   "outputs": [],
   "source": [
    "t = np.linspace(0, 6, 2000)\n",
    "\n",
    "noise_mean = 0\n",
    "noise_std_1 = 90\n",
    "v = np.column_stack(np.random.normal(noise_mean, noise_std_1, len(t))).T"
   ]
  },
  {
   "cell_type": "code",
   "execution_count": 3,
   "metadata": {},
   "outputs": [],
   "source": [
    "N = scipy.stats.norm(noise_mean, noise_std_1)\n",
    "xr = np.linspace(-300, 300, 1000)\n",
    "pdf = N.pdf(xr)"
   ]
  },
  {
   "cell_type": "markdown",
   "metadata": {},
   "source": [
    "# Histogram"
   ]
  },
  {
   "cell_type": "code",
   "execution_count": 4,
   "metadata": {},
   "outputs": [
    {
     "data": {
      "text/plain": [
       "[<matplotlib.lines.Line2D at 0x7f7b94fe4850>]"
      ]
     },
     "execution_count": 4,
     "metadata": {},
     "output_type": "execute_result"
    },
    {
     "data": {
      "image/png": "[encoded data removed]",
      "text/plain": [
       "<Figure size 640x480 with 1 Axes>"
      ]
     },
     "metadata": {},
     "output_type": "display_data"
    }
   ],
   "source": [
    "plt.hist(v, density=True)\n",
    "plt.plot(xr, pdf, color='red')"
   ]
  },
  {
   "cell_type": "markdown",
   "metadata": {},
   "source": [
    "# Covariance matrix"
   ]
  },
  {
   "cell_type": "code",
   "execution_count": 9,
   "metadata": {},
   "outputs": [
    {
     "name": "stdout",
     "output_type": "stream",
     "text": [
      "[[ 8476.12977247   372.69581419 -9431.20995104   958.52940249]\n",
      " [  372.69581419    16.38745201  -414.69073338    42.14658172]\n",
      " [-9431.20995104  -414.69073338 10493.90742335 -1066.53535066]\n",
      " [  958.52940249    42.14658172 -1066.53535066   108.39600621]]\n"
     ]
    }
   ],
   "source": [
    "v = np.column_stack(np.random.normal(noise_mean, noise_std_1, 4)).T\n",
    "print(v@v.T)"
   ]
  },
  {
   "cell_type": "markdown",
   "metadata": {},
   "source": [
    "# Empirical convariance matrix"
   ]
  },
  {
   "cell_type": "code",
   "execution_count": 10,
   "metadata": {},
   "outputs": [],
   "source": [
    "R = []\n",
    "\n",
    "for i in range(1000):\n",
    "    v = np.column_stack(np.random.normal(noise_mean, noise_std_1, 4)).T\n",
    "    Ri = v@v.T\n",
    "    R.append(Ri)"
   ]
  },
  {
   "cell_type": "code",
   "execution_count": 11,
   "metadata": {},
   "outputs": [],
   "source": [
    "Rstack = np.dstack(R)"
   ]
  },
  {
   "cell_type": "code",
   "execution_count": 12,
   "metadata": {},
   "outputs": [
    {
     "name": "stdout",
     "output_type": "stream",
     "text": [
      "[[7995.05674129 -326.97668121  106.82004376  135.48851511]\n",
      " [-326.97668121 8138.61411521 -248.786141   -289.51559286]\n",
      " [ 106.82004376 -248.786141   8017.68753767 -334.12040026]\n",
      " [ 135.48851511 -289.51559286 -334.12040026 8824.53925286]]\n"
     ]
    }
   ],
   "source": [
    "print( np.mean(Rstack, 2) )"
   ]
  },
  {
   "cell_type": "markdown",
   "metadata": {},
   "source": [
    "# Exercises\n",
    "\n",
    "1. Print out the true covariance matrix. How does the empirical covariance matrix compare?\n",
    "2. Increase the number of iterations (by a lot) in the empirical covariance matrix. How does it compare to the true covariance now?"
   ]
  },
  {
   "cell_type": "code",
   "execution_count": null,
   "metadata": {},
   "outputs": [],
   "source": []
  }
 ],
 "metadata": {
  "kernelspec": {
   "display_name": "PY38",
   "language": "python",
   "name": "py38"
  },
  "language_info": {
   "codemirror_mode": {
    "name": "ipython",
    "version": 3
   },
   "file_extension": ".py",
   "mimetype": "text/x-python",
   "name": "python",
   "nbconvert_exporter": "python",
   "pygments_lexer": "ipython3",
   "version": "3.8.6"
  }
 },
 "nbformat": 4,
 "nbformat_minor": 4
}
